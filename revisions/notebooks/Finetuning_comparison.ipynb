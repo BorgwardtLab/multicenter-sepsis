{
 "cells": [
  {
   "cell_type": "markdown",
   "id": "7ef23a78",
   "metadata": {},
   "source": [
    "# Notebook for exploring the heatmap results"
   ]
  },
  {
   "cell_type": "code",
   "execution_count": 1,
   "id": "29930456",
   "metadata": {},
   "outputs": [],
   "source": [
    "import pandas as pd\n",
    "import matplotlib.pyplot as plt\n",
    "import seaborn as sns\n",
    "import os\n",
    "import numpy as np"
   ]
  },
  {
   "cell_type": "code",
   "execution_count": 7,
   "id": "610265c4",
   "metadata": {},
   "outputs": [],
   "source": [
    "base_dir = '../../'\n",
    "paths = {\n",
    "# standard resutls (internal, external)\n",
    "'p1':'results/evaluation_test/plots/roc_summary_subsampled.csv',\n",
    "# model pooling / ensembling:\n",
    "'p2': 'results/evaluation_test/prediction_pooled_subsampled/max/plots/roc_summary_subsampled.csv',\n",
    "# finetuned models on 10%:\n",
    "'p3': 'results/finetuning/evaluation_test/plots/roc_summary_subsampled.csv',\n",
    "# baseline (of finetuning) on 10%:\n",
    "'p4': 'results/finetuning/evaluation_test/baseline/plots/roc_summary_subsampled.csv',\n",
    "# finetuned models on 10%:\n",
    "'p5': 'results/finetuning_0_20/evaluation_test/plots/roc_summary_subsampled.csv',\n",
    "# baseline (of finetuning) on 10%:\n",
    "'p6': 'results/finetuning_0_20/evaluation_test/baseline/plots/roc_summary_subsampled.csv',\n",
    "\n",
    "}\n",
    "paths = {key: os.path.join(base_dir, val) for key, val in paths.items()}"
   ]
  },
  {
   "cell_type": "code",
   "execution_count": 6,
   "id": "ec992953",
   "metadata": {},
   "outputs": [
    {
     "name": "stdout",
     "output_type": "stream",
     "text": [
      "\u001b[34mbaselines\u001b[m\u001b[m/ \u001b[34mplots\u001b[m\u001b[m/\r\n"
     ]
    }
   ],
   "source": [
    "ls ../../results/finetuning_0_20/evaluation_test/"
   ]
  },
  {
   "cell_type": "code",
   "execution_count": 9,
   "id": "b1cc993a",
   "metadata": {},
   "outputs": [
    {
     "data": {
      "text/plain": [
       "{'p1': '../../results/evaluation_test/plots/roc_summary_subsampled.csv',\n",
       " 'p2': '../../results/evaluation_test/prediction_pooled_subsampled/max/plots/roc_summary_subsampled.csv',\n",
       " 'p3': '../../results/finetuning/evaluation_test/plots/roc_summary_subsampled.csv',\n",
       " 'p4': '../../results/finetuning/evaluation_test/baseline/plots/roc_summary_subsampled.csv',\n",
       " 'p5': '../../results/finetuning_0_20/evaluation_test/plots/roc_summary_subsampled.csv',\n",
       " 'p6': '../../results/finetuning_0_20/evaluation_test/baseline/plots/roc_summary_subsampled.csv'}"
      ]
     },
     "execution_count": 9,
     "metadata": {},
     "output_type": "execute_result"
    }
   ],
   "source": [
    "paths"
   ]
  },
  {
   "cell_type": "code",
   "execution_count": 11,
   "id": "364fe85d",
   "metadata": {},
   "outputs": [],
   "source": [
    "dfs = {key: pd.read_csv(val) for key,val in paths.items()} "
   ]
  },
  {
   "cell_type": "code",
   "execution_count": 14,
   "id": "9419aaa7",
   "metadata": {},
   "outputs": [],
   "source": [
    "dfs = {key: df.drop(columns='Unnamed: 0') for key, df in dfs.items()}"
   ]
  },
  {
   "cell_type": "code",
   "execution_count": 15,
   "id": "0be8b62f",
   "metadata": {},
   "outputs": [
    {
     "data": {
      "text/plain": [
       "[Index(['model', 'train_dataset', 'eval_dataset', 'auc_mean', 'auc_std'], dtype='object'),\n",
       " Index(['model', 'train_dataset', 'eval_dataset', 'auc_mean', 'auc_std'], dtype='object'),\n",
       " Index(['model', 'train_dataset', 'eval_dataset', 'auc_mean', 'auc_std'], dtype='object'),\n",
       " Index(['model', 'train_dataset', 'eval_dataset', 'auc_mean', 'auc_std'], dtype='object'),\n",
       " Index(['model', 'train_dataset', 'eval_dataset', 'auc_mean', 'auc_std'], dtype='object'),\n",
       " Index(['model', 'train_dataset', 'eval_dataset', 'auc_mean', 'auc_std'], dtype='object')]"
      ]
     },
     "execution_count": 15,
     "metadata": {},
     "output_type": "execute_result"
    }
   ],
   "source": [
    "[df.columns for k, df in dfs.items()]"
   ]
  },
  {
   "cell_type": "code",
   "execution_count": 24,
   "id": "bcc436a6",
   "metadata": {},
   "outputs": [],
   "source": [
    "dfs['p3']['finetuned'] = True\n",
    "dfs['p1']['finetuned'] = False\n",
    "dfs['p2']['finetuned'] = False\n",
    "dfs['p4']['finetuned'] = False\n",
    "dfs['p5']['finetuned'] = True\n",
    "dfs['p6']['finetuned'] = False"
   ]
  },
  {
   "cell_type": "code",
   "execution_count": 16,
   "id": "c6f5e624",
   "metadata": {},
   "outputs": [],
   "source": [
    "# indicator if it's the finetuning baseline:\n",
    "dfs['p3']['baseline'] = False\n",
    "dfs['p1']['baseline'] = False\n",
    "dfs['p2']['baseline'] = False\n",
    "dfs['p4']['baseline'] = True\n",
    "dfs['p5']['baseline'] = False\n",
    "dfs['p6']['baseline'] = True"
   ]
  },
  {
   "cell_type": "code",
   "execution_count": 19,
   "id": "51186bdc",
   "metadata": {},
   "outputs": [],
   "source": [
    "# finetuning size: (training size for baseline)\n",
    "dfs['p3']['finetuning_size'] = 0.10\n",
    "dfs['p1']['finetuning_size'] = np.nan\n",
    "dfs['p2']['finetuning_size'] = np.nan\n",
    "dfs['p4']['finetuning_size'] = 0.10\n",
    "dfs['p5']['finetuning_size'] = 0.02\n",
    "dfs['p6']['finetuning_size'] = 0.02"
   ]
  },
  {
   "cell_type": "code",
   "execution_count": 20,
   "id": "a83f8df0",
   "metadata": {},
   "outputs": [
    {
     "data": {
      "text/html": [
       "<div>\n",
       "<style scoped>\n",
       "    .dataframe tbody tr th:only-of-type {\n",
       "        vertical-align: middle;\n",
       "    }\n",
       "\n",
       "    .dataframe tbody tr th {\n",
       "        vertical-align: top;\n",
       "    }\n",
       "\n",
       "    .dataframe thead th {\n",
       "        text-align: right;\n",
       "    }\n",
       "</style>\n",
       "<table border=\"1\" class=\"dataframe\">\n",
       "  <thead>\n",
       "    <tr style=\"text-align: right;\">\n",
       "      <th></th>\n",
       "      <th>model</th>\n",
       "      <th>train_dataset</th>\n",
       "      <th>eval_dataset</th>\n",
       "      <th>auc_mean</th>\n",
       "      <th>auc_std</th>\n",
       "      <th>baseline</th>\n",
       "      <th>finetuning_size</th>\n",
       "    </tr>\n",
       "  </thead>\n",
       "  <tbody>\n",
       "    <tr>\n",
       "      <th>0</th>\n",
       "      <td>AttentionModel</td>\n",
       "      <td>aumc</td>\n",
       "      <td>aumc</td>\n",
       "      <td>0.917711</td>\n",
       "      <td>0.003569</td>\n",
       "      <td>False</td>\n",
       "      <td>NaN</td>\n",
       "    </tr>\n",
       "    <tr>\n",
       "      <th>1</th>\n",
       "      <td>GRUModel</td>\n",
       "      <td>aumc</td>\n",
       "      <td>aumc</td>\n",
       "      <td>0.856986</td>\n",
       "      <td>0.014407</td>\n",
       "      <td>False</td>\n",
       "      <td>NaN</td>\n",
       "    </tr>\n",
       "    <tr>\n",
       "      <th>2</th>\n",
       "      <td>lgbm</td>\n",
       "      <td>aumc</td>\n",
       "      <td>aumc</td>\n",
       "      <td>0.893829</td>\n",
       "      <td>0.004515</td>\n",
       "      <td>False</td>\n",
       "      <td>NaN</td>\n",
       "    </tr>\n",
       "    <tr>\n",
       "      <th>3</th>\n",
       "      <td>lr</td>\n",
       "      <td>aumc</td>\n",
       "      <td>aumc</td>\n",
       "      <td>0.883245</td>\n",
       "      <td>0.001715</td>\n",
       "      <td>False</td>\n",
       "      <td>NaN</td>\n",
       "    </tr>\n",
       "    <tr>\n",
       "      <th>4</th>\n",
       "      <td>mews</td>\n",
       "      <td>aumc</td>\n",
       "      <td>aumc</td>\n",
       "      <td>0.718061</td>\n",
       "      <td>0.000000</td>\n",
       "      <td>False</td>\n",
       "      <td>NaN</td>\n",
       "    </tr>\n",
       "    <tr>\n",
       "      <th>...</th>\n",
       "      <td>...</td>\n",
       "      <td>...</td>\n",
       "      <td>...</td>\n",
       "      <td>...</td>\n",
       "      <td>...</td>\n",
       "      <td>...</td>\n",
       "      <td>...</td>\n",
       "    </tr>\n",
       "    <tr>\n",
       "      <th>175</th>\n",
       "      <td>mews</td>\n",
       "      <td>mimic</td>\n",
       "      <td>mimic</td>\n",
       "      <td>0.609294</td>\n",
       "      <td>0.000000</td>\n",
       "      <td>False</td>\n",
       "      <td>NaN</td>\n",
       "    </tr>\n",
       "    <tr>\n",
       "      <th>176</th>\n",
       "      <td>news</td>\n",
       "      <td>mimic</td>\n",
       "      <td>mimic</td>\n",
       "      <td>0.652844</td>\n",
       "      <td>0.000000</td>\n",
       "      <td>False</td>\n",
       "      <td>NaN</td>\n",
       "    </tr>\n",
       "    <tr>\n",
       "      <th>177</th>\n",
       "      <td>qsofa</td>\n",
       "      <td>mimic</td>\n",
       "      <td>mimic</td>\n",
       "      <td>0.565961</td>\n",
       "      <td>0.000000</td>\n",
       "      <td>False</td>\n",
       "      <td>NaN</td>\n",
       "    </tr>\n",
       "    <tr>\n",
       "      <th>178</th>\n",
       "      <td>sirs</td>\n",
       "      <td>mimic</td>\n",
       "      <td>mimic</td>\n",
       "      <td>0.609423</td>\n",
       "      <td>0.000000</td>\n",
       "      <td>False</td>\n",
       "      <td>NaN</td>\n",
       "    </tr>\n",
       "    <tr>\n",
       "      <th>179</th>\n",
       "      <td>sofa</td>\n",
       "      <td>mimic</td>\n",
       "      <td>mimic</td>\n",
       "      <td>0.693076</td>\n",
       "      <td>0.000000</td>\n",
       "      <td>False</td>\n",
       "      <td>NaN</td>\n",
       "    </tr>\n",
       "  </tbody>\n",
       "</table>\n",
       "<p>180 rows × 7 columns</p>\n",
       "</div>"
      ],
      "text/plain": [
       "              model train_dataset eval_dataset  auc_mean   auc_std  baseline  \\\n",
       "0    AttentionModel          aumc         aumc  0.917711  0.003569     False   \n",
       "1          GRUModel          aumc         aumc  0.856986  0.014407     False   \n",
       "2              lgbm          aumc         aumc  0.893829  0.004515     False   \n",
       "3                lr          aumc         aumc  0.883245  0.001715     False   \n",
       "4              mews          aumc         aumc  0.718061  0.000000     False   \n",
       "..              ...           ...          ...       ...       ...       ...   \n",
       "175            mews         mimic        mimic  0.609294  0.000000     False   \n",
       "176            news         mimic        mimic  0.652844  0.000000     False   \n",
       "177           qsofa         mimic        mimic  0.565961  0.000000     False   \n",
       "178            sirs         mimic        mimic  0.609423  0.000000     False   \n",
       "179            sofa         mimic        mimic  0.693076  0.000000     False   \n",
       "\n",
       "     finetuning_size  \n",
       "0                NaN  \n",
       "1                NaN  \n",
       "2                NaN  \n",
       "3                NaN  \n",
       "4                NaN  \n",
       "..               ...  \n",
       "175              NaN  \n",
       "176              NaN  \n",
       "177              NaN  \n",
       "178              NaN  \n",
       "179              NaN  \n",
       "\n",
       "[180 rows x 7 columns]"
      ]
     },
     "execution_count": 20,
     "metadata": {},
     "output_type": "execute_result"
    }
   ],
   "source": [
    "dfs['p1']"
   ]
  },
  {
   "cell_type": "code",
   "execution_count": 25,
   "id": "6b0f7322",
   "metadata": {},
   "outputs": [],
   "source": [
    "df = pd.concat(dfs)"
   ]
  },
  {
   "cell_type": "code",
   "execution_count": 26,
   "id": "68914967",
   "metadata": {},
   "outputs": [],
   "source": [
    "# we look at the attn model:\n",
    "df = df.query(\"model == 'AttentionModel'\")\n",
    "# drop obsolete dataset (too heterogenous / low quality)\n",
    "df = df.query(\"train_dataset != 'emory' & eval_dataset != 'emory'\")"
   ]
  },
  {
   "cell_type": "code",
   "execution_count": 27,
   "id": "1de4b861",
   "metadata": {
    "scrolled": true
   },
   "outputs": [
    {
     "data": {
      "text/html": [
       "<div>\n",
       "<style scoped>\n",
       "    .dataframe tbody tr th:only-of-type {\n",
       "        vertical-align: middle;\n",
       "    }\n",
       "\n",
       "    .dataframe tbody tr th {\n",
       "        vertical-align: top;\n",
       "    }\n",
       "\n",
       "    .dataframe thead th {\n",
       "        text-align: right;\n",
       "    }\n",
       "</style>\n",
       "<table border=\"1\" class=\"dataframe\">\n",
       "  <thead>\n",
       "    <tr style=\"text-align: right;\">\n",
       "      <th></th>\n",
       "      <th></th>\n",
       "      <th>model</th>\n",
       "      <th>train_dataset</th>\n",
       "      <th>eval_dataset</th>\n",
       "      <th>auc_mean</th>\n",
       "      <th>auc_std</th>\n",
       "      <th>baseline</th>\n",
       "      <th>finetuning_size</th>\n",
       "      <th>finetuned</th>\n",
       "    </tr>\n",
       "  </thead>\n",
       "  <tbody>\n",
       "    <tr>\n",
       "      <th rowspan=\"16\" valign=\"top\">p1</th>\n",
       "      <th>0</th>\n",
       "      <td>AttentionModel</td>\n",
       "      <td>aumc</td>\n",
       "      <td>aumc</td>\n",
       "      <td>0.917711</td>\n",
       "      <td>0.003569</td>\n",
       "      <td>False</td>\n",
       "      <td>NaN</td>\n",
       "      <td>False</td>\n",
       "    </tr>\n",
       "    <tr>\n",
       "      <th>9</th>\n",
       "      <td>AttentionModel</td>\n",
       "      <td>aumc</td>\n",
       "      <td>eicu</td>\n",
       "      <td>0.698006</td>\n",
       "      <td>0.010686</td>\n",
       "      <td>False</td>\n",
       "      <td>NaN</td>\n",
       "      <td>False</td>\n",
       "    </tr>\n",
       "    <tr>\n",
       "      <th>22</th>\n",
       "      <td>AttentionModel</td>\n",
       "      <td>aumc</td>\n",
       "      <td>hirid</td>\n",
       "      <td>0.733108</td>\n",
       "      <td>0.013438</td>\n",
       "      <td>False</td>\n",
       "      <td>NaN</td>\n",
       "      <td>False</td>\n",
       "    </tr>\n",
       "    <tr>\n",
       "      <th>31</th>\n",
       "      <td>AttentionModel</td>\n",
       "      <td>aumc</td>\n",
       "      <td>mimic</td>\n",
       "      <td>0.685606</td>\n",
       "      <td>0.013133</td>\n",
       "      <td>False</td>\n",
       "      <td>NaN</td>\n",
       "      <td>False</td>\n",
       "    </tr>\n",
       "    <tr>\n",
       "      <th>40</th>\n",
       "      <td>AttentionModel</td>\n",
       "      <td>eicu</td>\n",
       "      <td>aumc</td>\n",
       "      <td>0.731821</td>\n",
       "      <td>0.007108</td>\n",
       "      <td>False</td>\n",
       "      <td>NaN</td>\n",
       "      <td>False</td>\n",
       "    </tr>\n",
       "    <tr>\n",
       "      <th>49</th>\n",
       "      <td>AttentionModel</td>\n",
       "      <td>eicu</td>\n",
       "      <td>eicu</td>\n",
       "      <td>0.802502</td>\n",
       "      <td>0.003536</td>\n",
       "      <td>False</td>\n",
       "      <td>NaN</td>\n",
       "      <td>False</td>\n",
       "    </tr>\n",
       "    <tr>\n",
       "      <th>62</th>\n",
       "      <td>AttentionModel</td>\n",
       "      <td>eicu</td>\n",
       "      <td>hirid</td>\n",
       "      <td>0.705312</td>\n",
       "      <td>0.026872</td>\n",
       "      <td>False</td>\n",
       "      <td>NaN</td>\n",
       "      <td>False</td>\n",
       "    </tr>\n",
       "    <tr>\n",
       "      <th>71</th>\n",
       "      <td>AttentionModel</td>\n",
       "      <td>eicu</td>\n",
       "      <td>mimic</td>\n",
       "      <td>0.714940</td>\n",
       "      <td>0.009202</td>\n",
       "      <td>False</td>\n",
       "      <td>NaN</td>\n",
       "      <td>False</td>\n",
       "    </tr>\n",
       "    <tr>\n",
       "      <th>100</th>\n",
       "      <td>AttentionModel</td>\n",
       "      <td>hirid</td>\n",
       "      <td>aumc</td>\n",
       "      <td>0.806525</td>\n",
       "      <td>0.014401</td>\n",
       "      <td>False</td>\n",
       "      <td>NaN</td>\n",
       "      <td>False</td>\n",
       "    </tr>\n",
       "    <tr>\n",
       "      <th>109</th>\n",
       "      <td>AttentionModel</td>\n",
       "      <td>hirid</td>\n",
       "      <td>eicu</td>\n",
       "      <td>0.705568</td>\n",
       "      <td>0.009348</td>\n",
       "      <td>False</td>\n",
       "      <td>NaN</td>\n",
       "      <td>False</td>\n",
       "    </tr>\n",
       "    <tr>\n",
       "      <th>122</th>\n",
       "      <td>AttentionModel</td>\n",
       "      <td>hirid</td>\n",
       "      <td>hirid</td>\n",
       "      <td>0.834322</td>\n",
       "      <td>0.002237</td>\n",
       "      <td>False</td>\n",
       "      <td>NaN</td>\n",
       "      <td>False</td>\n",
       "    </tr>\n",
       "    <tr>\n",
       "      <th>131</th>\n",
       "      <td>AttentionModel</td>\n",
       "      <td>hirid</td>\n",
       "      <td>mimic</td>\n",
       "      <td>0.648077</td>\n",
       "      <td>0.012512</td>\n",
       "      <td>False</td>\n",
       "      <td>NaN</td>\n",
       "      <td>False</td>\n",
       "    </tr>\n",
       "    <tr>\n",
       "      <th>140</th>\n",
       "      <td>AttentionModel</td>\n",
       "      <td>mimic</td>\n",
       "      <td>aumc</td>\n",
       "      <td>0.798606</td>\n",
       "      <td>0.022978</td>\n",
       "      <td>False</td>\n",
       "      <td>NaN</td>\n",
       "      <td>False</td>\n",
       "    </tr>\n",
       "    <tr>\n",
       "      <th>149</th>\n",
       "      <td>AttentionModel</td>\n",
       "      <td>mimic</td>\n",
       "      <td>eicu</td>\n",
       "      <td>0.753329</td>\n",
       "      <td>0.007784</td>\n",
       "      <td>False</td>\n",
       "      <td>NaN</td>\n",
       "      <td>False</td>\n",
       "    </tr>\n",
       "    <tr>\n",
       "      <th>162</th>\n",
       "      <td>AttentionModel</td>\n",
       "      <td>mimic</td>\n",
       "      <td>hirid</td>\n",
       "      <td>0.694860</td>\n",
       "      <td>0.010384</td>\n",
       "      <td>False</td>\n",
       "      <td>NaN</td>\n",
       "      <td>False</td>\n",
       "    </tr>\n",
       "    <tr>\n",
       "      <th>171</th>\n",
       "      <td>AttentionModel</td>\n",
       "      <td>mimic</td>\n",
       "      <td>mimic</td>\n",
       "      <td>0.831972</td>\n",
       "      <td>0.003256</td>\n",
       "      <td>False</td>\n",
       "      <td>NaN</td>\n",
       "      <td>False</td>\n",
       "    </tr>\n",
       "    <tr>\n",
       "      <th rowspan=\"4\" valign=\"top\">p2</th>\n",
       "      <th>0</th>\n",
       "      <td>AttentionModel</td>\n",
       "      <td>pooled</td>\n",
       "      <td>aumc</td>\n",
       "      <td>0.835573</td>\n",
       "      <td>0.010908</td>\n",
       "      <td>False</td>\n",
       "      <td>NaN</td>\n",
       "      <td>False</td>\n",
       "    </tr>\n",
       "    <tr>\n",
       "      <th>9</th>\n",
       "      <td>AttentionModel</td>\n",
       "      <td>pooled</td>\n",
       "      <td>eicu</td>\n",
       "      <td>0.759670</td>\n",
       "      <td>0.006823</td>\n",
       "      <td>False</td>\n",
       "      <td>NaN</td>\n",
       "      <td>False</td>\n",
       "    </tr>\n",
       "    <tr>\n",
       "      <th>18</th>\n",
       "      <td>AttentionModel</td>\n",
       "      <td>pooled</td>\n",
       "      <td>hirid</td>\n",
       "      <td>0.729156</td>\n",
       "      <td>0.013789</td>\n",
       "      <td>False</td>\n",
       "      <td>NaN</td>\n",
       "      <td>False</td>\n",
       "    </tr>\n",
       "    <tr>\n",
       "      <th>27</th>\n",
       "      <td>AttentionModel</td>\n",
       "      <td>pooled</td>\n",
       "      <td>mimic</td>\n",
       "      <td>0.720870</td>\n",
       "      <td>0.005167</td>\n",
       "      <td>False</td>\n",
       "      <td>NaN</td>\n",
       "      <td>False</td>\n",
       "    </tr>\n",
       "    <tr>\n",
       "      <th rowspan=\"12\" valign=\"top\">p3</th>\n",
       "      <th>0</th>\n",
       "      <td>AttentionModel</td>\n",
       "      <td>aumc</td>\n",
       "      <td>eicu</td>\n",
       "      <td>0.756370</td>\n",
       "      <td>0.007211</td>\n",
       "      <td>False</td>\n",
       "      <td>0.10</td>\n",
       "      <td>True</td>\n",
       "    </tr>\n",
       "    <tr>\n",
       "      <th>1</th>\n",
       "      <td>AttentionModel</td>\n",
       "      <td>aumc</td>\n",
       "      <td>hirid</td>\n",
       "      <td>0.792255</td>\n",
       "      <td>0.002184</td>\n",
       "      <td>False</td>\n",
       "      <td>0.10</td>\n",
       "      <td>True</td>\n",
       "    </tr>\n",
       "    <tr>\n",
       "      <th>2</th>\n",
       "      <td>AttentionModel</td>\n",
       "      <td>aumc</td>\n",
       "      <td>mimic</td>\n",
       "      <td>0.786427</td>\n",
       "      <td>0.002008</td>\n",
       "      <td>False</td>\n",
       "      <td>0.10</td>\n",
       "      <td>True</td>\n",
       "    </tr>\n",
       "    <tr>\n",
       "      <th>3</th>\n",
       "      <td>AttentionModel</td>\n",
       "      <td>eicu</td>\n",
       "      <td>aumc</td>\n",
       "      <td>0.846289</td>\n",
       "      <td>0.050213</td>\n",
       "      <td>False</td>\n",
       "      <td>0.10</td>\n",
       "      <td>True</td>\n",
       "    </tr>\n",
       "    <tr>\n",
       "      <th>4</th>\n",
       "      <td>AttentionModel</td>\n",
       "      <td>eicu</td>\n",
       "      <td>hirid</td>\n",
       "      <td>0.774104</td>\n",
       "      <td>0.001855</td>\n",
       "      <td>False</td>\n",
       "      <td>0.10</td>\n",
       "      <td>True</td>\n",
       "    </tr>\n",
       "    <tr>\n",
       "      <th>5</th>\n",
       "      <td>AttentionModel</td>\n",
       "      <td>eicu</td>\n",
       "      <td>mimic</td>\n",
       "      <td>0.789502</td>\n",
       "      <td>0.002433</td>\n",
       "      <td>False</td>\n",
       "      <td>0.10</td>\n",
       "      <td>True</td>\n",
       "    </tr>\n",
       "    <tr>\n",
       "      <th>6</th>\n",
       "      <td>AttentionModel</td>\n",
       "      <td>hirid</td>\n",
       "      <td>aumc</td>\n",
       "      <td>0.867947</td>\n",
       "      <td>0.010989</td>\n",
       "      <td>False</td>\n",
       "      <td>0.10</td>\n",
       "      <td>True</td>\n",
       "    </tr>\n",
       "    <tr>\n",
       "      <th>7</th>\n",
       "      <td>AttentionModel</td>\n",
       "      <td>hirid</td>\n",
       "      <td>eicu</td>\n",
       "      <td>0.761983</td>\n",
       "      <td>0.004556</td>\n",
       "      <td>False</td>\n",
       "      <td>0.10</td>\n",
       "      <td>True</td>\n",
       "    </tr>\n",
       "    <tr>\n",
       "      <th>8</th>\n",
       "      <td>AttentionModel</td>\n",
       "      <td>hirid</td>\n",
       "      <td>mimic</td>\n",
       "      <td>0.794380</td>\n",
       "      <td>0.002116</td>\n",
       "      <td>False</td>\n",
       "      <td>0.10</td>\n",
       "      <td>True</td>\n",
       "    </tr>\n",
       "    <tr>\n",
       "      <th>9</th>\n",
       "      <td>AttentionModel</td>\n",
       "      <td>mimic</td>\n",
       "      <td>aumc</td>\n",
       "      <td>0.894071</td>\n",
       "      <td>0.003426</td>\n",
       "      <td>False</td>\n",
       "      <td>0.10</td>\n",
       "      <td>True</td>\n",
       "    </tr>\n",
       "    <tr>\n",
       "      <th>10</th>\n",
       "      <td>AttentionModel</td>\n",
       "      <td>mimic</td>\n",
       "      <td>eicu</td>\n",
       "      <td>0.793121</td>\n",
       "      <td>0.003726</td>\n",
       "      <td>False</td>\n",
       "      <td>0.10</td>\n",
       "      <td>True</td>\n",
       "    </tr>\n",
       "    <tr>\n",
       "      <th>11</th>\n",
       "      <td>AttentionModel</td>\n",
       "      <td>mimic</td>\n",
       "      <td>hirid</td>\n",
       "      <td>0.797083</td>\n",
       "      <td>0.004061</td>\n",
       "      <td>False</td>\n",
       "      <td>0.10</td>\n",
       "      <td>True</td>\n",
       "    </tr>\n",
       "    <tr>\n",
       "      <th rowspan=\"4\" valign=\"top\">p4</th>\n",
       "      <th>0</th>\n",
       "      <td>AttentionModel</td>\n",
       "      <td>aumc</td>\n",
       "      <td>aumc</td>\n",
       "      <td>0.829317</td>\n",
       "      <td>0.004322</td>\n",
       "      <td>True</td>\n",
       "      <td>0.10</td>\n",
       "      <td>False</td>\n",
       "    </tr>\n",
       "    <tr>\n",
       "      <th>1</th>\n",
       "      <td>AttentionModel</td>\n",
       "      <td>eicu</td>\n",
       "      <td>eicu</td>\n",
       "      <td>0.729738</td>\n",
       "      <td>0.005943</td>\n",
       "      <td>True</td>\n",
       "      <td>0.10</td>\n",
       "      <td>False</td>\n",
       "    </tr>\n",
       "    <tr>\n",
       "      <th>2</th>\n",
       "      <td>AttentionModel</td>\n",
       "      <td>hirid</td>\n",
       "      <td>hirid</td>\n",
       "      <td>0.787233</td>\n",
       "      <td>0.001456</td>\n",
       "      <td>True</td>\n",
       "      <td>0.10</td>\n",
       "      <td>False</td>\n",
       "    </tr>\n",
       "    <tr>\n",
       "      <th>3</th>\n",
       "      <td>AttentionModel</td>\n",
       "      <td>mimic</td>\n",
       "      <td>mimic</td>\n",
       "      <td>0.782670</td>\n",
       "      <td>0.002296</td>\n",
       "      <td>True</td>\n",
       "      <td>0.10</td>\n",
       "      <td>False</td>\n",
       "    </tr>\n",
       "    <tr>\n",
       "      <th rowspan=\"12\" valign=\"top\">p5</th>\n",
       "      <th>0</th>\n",
       "      <td>AttentionModel</td>\n",
       "      <td>aumc</td>\n",
       "      <td>eicu</td>\n",
       "      <td>0.724866</td>\n",
       "      <td>0.003635</td>\n",
       "      <td>False</td>\n",
       "      <td>0.02</td>\n",
       "      <td>True</td>\n",
       "    </tr>\n",
       "    <tr>\n",
       "      <th>1</th>\n",
       "      <td>AttentionModel</td>\n",
       "      <td>aumc</td>\n",
       "      <td>hirid</td>\n",
       "      <td>0.774966</td>\n",
       "      <td>0.002813</td>\n",
       "      <td>False</td>\n",
       "      <td>0.02</td>\n",
       "      <td>True</td>\n",
       "    </tr>\n",
       "    <tr>\n",
       "      <th>2</th>\n",
       "      <td>AttentionModel</td>\n",
       "      <td>aumc</td>\n",
       "      <td>mimic</td>\n",
       "      <td>0.699866</td>\n",
       "      <td>0.023450</td>\n",
       "      <td>False</td>\n",
       "      <td>0.02</td>\n",
       "      <td>True</td>\n",
       "    </tr>\n",
       "    <tr>\n",
       "      <th>3</th>\n",
       "      <td>AttentionModel</td>\n",
       "      <td>eicu</td>\n",
       "      <td>aumc</td>\n",
       "      <td>0.773791</td>\n",
       "      <td>0.041005</td>\n",
       "      <td>False</td>\n",
       "      <td>0.02</td>\n",
       "      <td>True</td>\n",
       "    </tr>\n",
       "    <tr>\n",
       "      <th>4</th>\n",
       "      <td>AttentionModel</td>\n",
       "      <td>eicu</td>\n",
       "      <td>hirid</td>\n",
       "      <td>0.729016</td>\n",
       "      <td>0.010541</td>\n",
       "      <td>False</td>\n",
       "      <td>0.02</td>\n",
       "      <td>True</td>\n",
       "    </tr>\n",
       "    <tr>\n",
       "      <th>5</th>\n",
       "      <td>AttentionModel</td>\n",
       "      <td>eicu</td>\n",
       "      <td>mimic</td>\n",
       "      <td>0.724120</td>\n",
       "      <td>0.011153</td>\n",
       "      <td>False</td>\n",
       "      <td>0.02</td>\n",
       "      <td>True</td>\n",
       "    </tr>\n",
       "    <tr>\n",
       "      <th>6</th>\n",
       "      <td>AttentionModel</td>\n",
       "      <td>hirid</td>\n",
       "      <td>aumc</td>\n",
       "      <td>0.844473</td>\n",
       "      <td>0.011185</td>\n",
       "      <td>False</td>\n",
       "      <td>0.02</td>\n",
       "      <td>True</td>\n",
       "    </tr>\n",
       "    <tr>\n",
       "      <th>7</th>\n",
       "      <td>AttentionModel</td>\n",
       "      <td>hirid</td>\n",
       "      <td>eicu</td>\n",
       "      <td>0.742710</td>\n",
       "      <td>0.006265</td>\n",
       "      <td>False</td>\n",
       "      <td>0.02</td>\n",
       "      <td>True</td>\n",
       "    </tr>\n",
       "    <tr>\n",
       "      <th>8</th>\n",
       "      <td>AttentionModel</td>\n",
       "      <td>hirid</td>\n",
       "      <td>mimic</td>\n",
       "      <td>0.737982</td>\n",
       "      <td>0.009524</td>\n",
       "      <td>False</td>\n",
       "      <td>0.02</td>\n",
       "      <td>True</td>\n",
       "    </tr>\n",
       "    <tr>\n",
       "      <th>9</th>\n",
       "      <td>AttentionModel</td>\n",
       "      <td>mimic</td>\n",
       "      <td>aumc</td>\n",
       "      <td>0.843931</td>\n",
       "      <td>0.013971</td>\n",
       "      <td>False</td>\n",
       "      <td>0.02</td>\n",
       "      <td>True</td>\n",
       "    </tr>\n",
       "    <tr>\n",
       "      <th>10</th>\n",
       "      <td>AttentionModel</td>\n",
       "      <td>mimic</td>\n",
       "      <td>eicu</td>\n",
       "      <td>0.780288</td>\n",
       "      <td>0.002248</td>\n",
       "      <td>False</td>\n",
       "      <td>0.02</td>\n",
       "      <td>True</td>\n",
       "    </tr>\n",
       "    <tr>\n",
       "      <th>11</th>\n",
       "      <td>AttentionModel</td>\n",
       "      <td>mimic</td>\n",
       "      <td>hirid</td>\n",
       "      <td>0.782912</td>\n",
       "      <td>0.003641</td>\n",
       "      <td>False</td>\n",
       "      <td>0.02</td>\n",
       "      <td>True</td>\n",
       "    </tr>\n",
       "    <tr>\n",
       "      <th rowspan=\"4\" valign=\"top\">p6</th>\n",
       "      <th>0</th>\n",
       "      <td>AttentionModel</td>\n",
       "      <td>aumc</td>\n",
       "      <td>aumc</td>\n",
       "      <td>0.807556</td>\n",
       "      <td>0.006384</td>\n",
       "      <td>True</td>\n",
       "      <td>0.02</td>\n",
       "      <td>False</td>\n",
       "    </tr>\n",
       "    <tr>\n",
       "      <th>1</th>\n",
       "      <td>AttentionModel</td>\n",
       "      <td>eicu</td>\n",
       "      <td>eicu</td>\n",
       "      <td>0.711287</td>\n",
       "      <td>0.003618</td>\n",
       "      <td>True</td>\n",
       "      <td>0.02</td>\n",
       "      <td>False</td>\n",
       "    </tr>\n",
       "    <tr>\n",
       "      <th>2</th>\n",
       "      <td>AttentionModel</td>\n",
       "      <td>hirid</td>\n",
       "      <td>hirid</td>\n",
       "      <td>0.763304</td>\n",
       "      <td>0.001136</td>\n",
       "      <td>True</td>\n",
       "      <td>0.02</td>\n",
       "      <td>False</td>\n",
       "    </tr>\n",
       "    <tr>\n",
       "      <th>3</th>\n",
       "      <td>AttentionModel</td>\n",
       "      <td>mimic</td>\n",
       "      <td>mimic</td>\n",
       "      <td>0.745647</td>\n",
       "      <td>0.002570</td>\n",
       "      <td>True</td>\n",
       "      <td>0.02</td>\n",
       "      <td>False</td>\n",
       "    </tr>\n",
       "  </tbody>\n",
       "</table>\n",
       "</div>"
      ],
      "text/plain": [
       "                 model train_dataset eval_dataset  auc_mean   auc_std  \\\n",
       "p1 0    AttentionModel          aumc         aumc  0.917711  0.003569   \n",
       "   9    AttentionModel          aumc         eicu  0.698006  0.010686   \n",
       "   22   AttentionModel          aumc        hirid  0.733108  0.013438   \n",
       "   31   AttentionModel          aumc        mimic  0.685606  0.013133   \n",
       "   40   AttentionModel          eicu         aumc  0.731821  0.007108   \n",
       "   49   AttentionModel          eicu         eicu  0.802502  0.003536   \n",
       "   62   AttentionModel          eicu        hirid  0.705312  0.026872   \n",
       "   71   AttentionModel          eicu        mimic  0.714940  0.009202   \n",
       "   100  AttentionModel         hirid         aumc  0.806525  0.014401   \n",
       "   109  AttentionModel         hirid         eicu  0.705568  0.009348   \n",
       "   122  AttentionModel         hirid        hirid  0.834322  0.002237   \n",
       "   131  AttentionModel         hirid        mimic  0.648077  0.012512   \n",
       "   140  AttentionModel         mimic         aumc  0.798606  0.022978   \n",
       "   149  AttentionModel         mimic         eicu  0.753329  0.007784   \n",
       "   162  AttentionModel         mimic        hirid  0.694860  0.010384   \n",
       "   171  AttentionModel         mimic        mimic  0.831972  0.003256   \n",
       "p2 0    AttentionModel        pooled         aumc  0.835573  0.010908   \n",
       "   9    AttentionModel        pooled         eicu  0.759670  0.006823   \n",
       "   18   AttentionModel        pooled        hirid  0.729156  0.013789   \n",
       "   27   AttentionModel        pooled        mimic  0.720870  0.005167   \n",
       "p3 0    AttentionModel          aumc         eicu  0.756370  0.007211   \n",
       "   1    AttentionModel          aumc        hirid  0.792255  0.002184   \n",
       "   2    AttentionModel          aumc        mimic  0.786427  0.002008   \n",
       "   3    AttentionModel          eicu         aumc  0.846289  0.050213   \n",
       "   4    AttentionModel          eicu        hirid  0.774104  0.001855   \n",
       "   5    AttentionModel          eicu        mimic  0.789502  0.002433   \n",
       "   6    AttentionModel         hirid         aumc  0.867947  0.010989   \n",
       "   7    AttentionModel         hirid         eicu  0.761983  0.004556   \n",
       "   8    AttentionModel         hirid        mimic  0.794380  0.002116   \n",
       "   9    AttentionModel         mimic         aumc  0.894071  0.003426   \n",
       "   10   AttentionModel         mimic         eicu  0.793121  0.003726   \n",
       "   11   AttentionModel         mimic        hirid  0.797083  0.004061   \n",
       "p4 0    AttentionModel          aumc         aumc  0.829317  0.004322   \n",
       "   1    AttentionModel          eicu         eicu  0.729738  0.005943   \n",
       "   2    AttentionModel         hirid        hirid  0.787233  0.001456   \n",
       "   3    AttentionModel         mimic        mimic  0.782670  0.002296   \n",
       "p5 0    AttentionModel          aumc         eicu  0.724866  0.003635   \n",
       "   1    AttentionModel          aumc        hirid  0.774966  0.002813   \n",
       "   2    AttentionModel          aumc        mimic  0.699866  0.023450   \n",
       "   3    AttentionModel          eicu         aumc  0.773791  0.041005   \n",
       "   4    AttentionModel          eicu        hirid  0.729016  0.010541   \n",
       "   5    AttentionModel          eicu        mimic  0.724120  0.011153   \n",
       "   6    AttentionModel         hirid         aumc  0.844473  0.011185   \n",
       "   7    AttentionModel         hirid         eicu  0.742710  0.006265   \n",
       "   8    AttentionModel         hirid        mimic  0.737982  0.009524   \n",
       "   9    AttentionModel         mimic         aumc  0.843931  0.013971   \n",
       "   10   AttentionModel         mimic         eicu  0.780288  0.002248   \n",
       "   11   AttentionModel         mimic        hirid  0.782912  0.003641   \n",
       "p6 0    AttentionModel          aumc         aumc  0.807556  0.006384   \n",
       "   1    AttentionModel          eicu         eicu  0.711287  0.003618   \n",
       "   2    AttentionModel         hirid        hirid  0.763304  0.001136   \n",
       "   3    AttentionModel         mimic        mimic  0.745647  0.002570   \n",
       "\n",
       "        baseline  finetuning_size  finetuned  \n",
       "p1 0       False              NaN      False  \n",
       "   9       False              NaN      False  \n",
       "   22      False              NaN      False  \n",
       "   31      False              NaN      False  \n",
       "   40      False              NaN      False  \n",
       "   49      False              NaN      False  \n",
       "   62      False              NaN      False  \n",
       "   71      False              NaN      False  \n",
       "   100     False              NaN      False  \n",
       "   109     False              NaN      False  \n",
       "   122     False              NaN      False  \n",
       "   131     False              NaN      False  \n",
       "   140     False              NaN      False  \n",
       "   149     False              NaN      False  \n",
       "   162     False              NaN      False  \n",
       "   171     False              NaN      False  \n",
       "p2 0       False              NaN      False  \n",
       "   9       False              NaN      False  \n",
       "   18      False              NaN      False  \n",
       "   27      False              NaN      False  \n",
       "p3 0       False             0.10       True  \n",
       "   1       False             0.10       True  \n",
       "   2       False             0.10       True  \n",
       "   3       False             0.10       True  \n",
       "   4       False             0.10       True  \n",
       "   5       False             0.10       True  \n",
       "   6       False             0.10       True  \n",
       "   7       False             0.10       True  \n",
       "   8       False             0.10       True  \n",
       "   9       False             0.10       True  \n",
       "   10      False             0.10       True  \n",
       "   11      False             0.10       True  \n",
       "p4 0        True             0.10      False  \n",
       "   1        True             0.10      False  \n",
       "   2        True             0.10      False  \n",
       "   3        True             0.10      False  \n",
       "p5 0       False             0.02       True  \n",
       "   1       False             0.02       True  \n",
       "   2       False             0.02       True  \n",
       "   3       False             0.02       True  \n",
       "   4       False             0.02       True  \n",
       "   5       False             0.02       True  \n",
       "   6       False             0.02       True  \n",
       "   7       False             0.02       True  \n",
       "   8       False             0.02       True  \n",
       "   9       False             0.02       True  \n",
       "   10      False             0.02       True  \n",
       "   11      False             0.02       True  \n",
       "p6 0        True             0.02      False  \n",
       "   1        True             0.02      False  \n",
       "   2        True             0.02      False  \n",
       "   3        True             0.02      False  "
      ]
     },
     "execution_count": 27,
     "metadata": {},
     "output_type": "execute_result"
    }
   ],
   "source": [
    "df"
   ]
  },
  {
   "cell_type": "code",
   "execution_count": 28,
   "id": "0965b94d",
   "metadata": {},
   "outputs": [],
   "source": [
    "# mean internal AUC\n",
    "auc_int_mean = df.query(\"train_dataset == eval_dataset & finetuned == False & train_dataset != 'pooled' & baseline == False\")['auc_mean'].mean()\n",
    "auc_int_std = df.query(\"train_dataset == eval_dataset & finetuned == False & train_dataset != 'pooled' & baseline == False\")['auc_std'].mean() # use bootstraps for CI?"
   ]
  },
  {
   "cell_type": "code",
   "execution_count": 29,
   "id": "97280bf2",
   "metadata": {},
   "outputs": [
    {
     "data": {
      "text/plain": [
       "0.8466267443625092"
      ]
     },
     "execution_count": 29,
     "metadata": {},
     "output_type": "execute_result"
    }
   ],
   "source": [
    "auc_int_mean"
   ]
  },
  {
   "cell_type": "code",
   "execution_count": 30,
   "id": "fc6f8963",
   "metadata": {},
   "outputs": [],
   "source": [
    "# mean pair-wise AUC (no finetuning, no pooling)\n",
    "auc_pw_mean = df.query(\"train_dataset != eval_dataset & finetuned == False & train_dataset != 'pooled' & baseline == False\")['auc_mean'].mean()\n",
    "auc_pw_std = df.query(\"train_dataset != eval_dataset & finetuned == False & train_dataset != 'pooled' & baseline == False\")['auc_std'].mean()"
   ]
  },
  {
   "cell_type": "code",
   "execution_count": 31,
   "id": "39ed4280",
   "metadata": {},
   "outputs": [
    {
     "data": {
      "text/plain": [
       "0.7229798509928985"
      ]
     },
     "execution_count": 31,
     "metadata": {},
     "output_type": "execute_result"
    }
   ],
   "source": [
    "auc_pw_mean"
   ]
  },
  {
   "cell_type": "code",
   "execution_count": 15,
   "id": "8e84b1a4",
   "metadata": {},
   "outputs": [
    {
     "data": {
      "text/plain": [
       "0.7229798509928985"
      ]
     },
     "execution_count": 15,
     "metadata": {},
     "output_type": "execute_result"
    }
   ],
   "source": [
    "auc_pw_mean"
   ]
  },
  {
   "cell_type": "code",
   "execution_count": 32,
   "id": "0b6d664a",
   "metadata": {},
   "outputs": [],
   "source": [
    "# mean pooled AUC (no finetuning)\n",
    "auc_po_mean = df.query(\"train_dataset == 'pooled' & finetuned == False & baseline == False\")['auc_mean'].mean()\n",
    "auc_po_std = df.query(\"train_dataset == 'pooled' & finetuned == False & baseline == False\")['auc_std'].mean()\n"
   ]
  },
  {
   "cell_type": "code",
   "execution_count": 17,
   "id": "87d83fb7",
   "metadata": {},
   "outputs": [
    {
     "data": {
      "text/plain": [
       "0.7613171965323347"
      ]
     },
     "execution_count": 17,
     "metadata": {},
     "output_type": "execute_result"
    }
   ],
   "source": [
    "auc_po_mean"
   ]
  },
  {
   "cell_type": "markdown",
   "id": "f0364e84",
   "metadata": {},
   "source": [
    "## finetuning on 10%"
   ]
  },
  {
   "cell_type": "code",
   "execution_count": 36,
   "id": "6caabc3e",
   "metadata": {},
   "outputs": [],
   "source": [
    "# mean finetuned AUC 10% \n",
    "auc_ft10_mean = df.query(\"train_dataset != 'pooled' & finetuned == True & baseline == False & finetuning_size == 0.10\")['auc_mean'].mean()\n",
    "auc_ft10_std = df.query(\"train_dataset != 'pooled' & finetuned == True & baseline == False & finetuning_size == 0.10\")['auc_std'].mean()\n"
   ]
  },
  {
   "cell_type": "code",
   "execution_count": 46,
   "id": "ac8cd3c3",
   "metadata": {},
   "outputs": [],
   "source": [
    "def get_ft(ft_size=0.10):\n",
    "    return df.query(\"train_dataset != 'pooled' & finetuned == True & baseline == False & finetuning_size == @ft_size\")"
   ]
  },
  {
   "cell_type": "code",
   "execution_count": 49,
   "id": "d39fc3cf",
   "metadata": {},
   "outputs": [],
   "source": [
    "df_ft10 = get_ft(0.10)\n",
    "auc_ft10_mean = df_ft10['auc_mean'].mean()\n",
    "auc_ft10_std = df_ft10['auc_std'].std()\n"
   ]
  },
  {
   "cell_type": "code",
   "execution_count": 50,
   "id": "3a18f78f",
   "metadata": {},
   "outputs": [
    {
     "data": {
      "text/plain": [
       "0.8044610478536885"
      ]
     },
     "execution_count": 50,
     "metadata": {},
     "output_type": "execute_result"
    }
   ],
   "source": [
    "auc_ft10_mean"
   ]
  },
  {
   "cell_type": "code",
   "execution_count": 19,
   "id": "13eab6f3",
   "metadata": {},
   "outputs": [
    {
     "data": {
      "text/plain": [
       "0.8044610478536885"
      ]
     },
     "execution_count": 19,
     "metadata": {},
     "output_type": "execute_result"
    }
   ],
   "source": [
    "auc_ft_mean"
   ]
  },
  {
   "cell_type": "code",
   "execution_count": 38,
   "id": "10821dde",
   "metadata": {},
   "outputs": [],
   "source": [
    "# mean baseline AUC (internally trained on finetuning data) 10% size\n",
    "auc_base10_mean = df.query(\"train_dataset != 'pooled' & finetuned == False & baseline == True & finetuning_size == 0.10\")['auc_mean'].mean()\n",
    "auc_base10_std =  df.query(\"train_dataset != 'pooled' & finetuned == False & baseline == True & finetuning_size == 0.10\")['auc_std'].mean()"
   ]
  },
  {
   "cell_type": "code",
   "execution_count": 51,
   "id": "5aac505a",
   "metadata": {},
   "outputs": [],
   "source": [
    "def get_baseline(ft_size=0.10):\n",
    "    return df.query(\"train_dataset != 'pooled' & finetuned == False & baseline == True & finetuning_size == @ft_size\")"
   ]
  },
  {
   "cell_type": "code",
   "execution_count": 59,
   "id": "85318a5f",
   "metadata": {},
   "outputs": [],
   "source": [
    "df_base10 = get_baseline(0.10)\n",
    "auc_base10_mean = df_base10['auc_mean'].mean()\n",
    "auc_base10_std = df_base10['auc_std'].mean()"
   ]
  },
  {
   "cell_type": "code",
   "execution_count": 56,
   "id": "20bf5a7e",
   "metadata": {},
   "outputs": [
    {
     "data": {
      "text/plain": [
       "0.7822397449362146"
      ]
     },
     "execution_count": 56,
     "metadata": {},
     "output_type": "execute_result"
    }
   ],
   "source": [
    "auc_base10_mean"
   ]
  },
  {
   "cell_type": "code",
   "execution_count": 21,
   "id": "e3d34e8c",
   "metadata": {},
   "outputs": [
    {
     "data": {
      "text/plain": [
       "0.7822397449362146"
      ]
     },
     "execution_count": 21,
     "metadata": {},
     "output_type": "execute_result"
    }
   ],
   "source": [
    "auc_base_mean "
   ]
  },
  {
   "cell_type": "markdown",
   "id": "a5793918",
   "metadata": {},
   "source": [
    "## finetuning on 2%"
   ]
  },
  {
   "cell_type": "code",
   "execution_count": 57,
   "id": "da1f6446",
   "metadata": {},
   "outputs": [],
   "source": [
    "df_ft2 = get_ft(0.02)\n",
    "auc_ft2_mean = df_ft2['auc_mean'].mean()\n",
    "auc_ft2_std = df_ft2['auc_std'].std()"
   ]
  },
  {
   "cell_type": "code",
   "execution_count": 58,
   "id": "a04c0d13",
   "metadata": {},
   "outputs": [
    {
     "data": {
      "text/plain": [
       "0.7632434823574795"
      ]
     },
     "execution_count": 58,
     "metadata": {},
     "output_type": "execute_result"
    }
   ],
   "source": [
    "auc_ft2_mean"
   ]
  },
  {
   "cell_type": "code",
   "execution_count": 60,
   "id": "4f8408b5",
   "metadata": {},
   "outputs": [],
   "source": [
    "df_base2 = get_baseline(0.02)\n",
    "auc_base2_mean = df_base2['auc_mean'].mean()\n",
    "auc_base2_std = df_base2['auc_std'].mean()"
   ]
  },
  {
   "cell_type": "code",
   "execution_count": 65,
   "id": "6ab35cb0",
   "metadata": {},
   "outputs": [
    {
     "data": {
      "text/plain": [
       "0.7569484196682784"
      ]
     },
     "execution_count": 65,
     "metadata": {},
     "output_type": "execute_result"
    }
   ],
   "source": [
    "auc_base2_mean"
   ]
  },
  {
   "cell_type": "code",
   "execution_count": 71,
   "id": "6186ecab",
   "metadata": {
    "scrolled": true
   },
   "outputs": [
    {
     "data": {
      "text/plain": [
       "Text(20.75, 0.5, 'AUROC (mean $\\\\pm$ std)')"
      ]
     },
     "execution_count": 71,
     "metadata": {},
     "output_type": "execute_result"
    },
    {
     "data": {
      "image/png": "[encoded data removed]",
      "text/plain": [
       "<Figure size 432x288 with 1 Axes>"
      ]
     },
     "metadata": {
      "needs_background": "light"
     },
     "output_type": "display_data"
    }
   ],
   "source": [
    "fig, ax = plt.subplots()\n",
    "x_pos = np.arange(4)\n",
    "aucs = [auc_pw_mean, auc_po_mean, auc_ft_mean, auc_int_mean]\n",
    "stds = [auc_pw_std, auc_po_std, auc_ft_std, auc_int_std]\n",
    "\n",
    "names = ['pair-wise', 'pooled', 'finetuning', 'internal']\n",
    "ax.bar(x_pos, aucs, yerr=stds, align='center', alpha=0.5, ecolor='black', capsize=10)\n",
    "ax.set_ylim(0.5,0.9)\n",
    "\n",
    "ax.set_xticks(x_pos)\n",
    "ax.set_xticklabels(names)\n",
    "plt.tight_layout()\n",
    "plt.ylabel(f'AUROC (mean $\\pm$ std)')"
   ]
  },
  {
   "cell_type": "code",
   "execution_count": 96,
   "id": "212428c9",
   "metadata": {},
   "outputs": [
    {
     "data": {
      "text/plain": [
       "Text(14.375, 0.5, 'AUROC (mean $\\\\pm$ std)')"
      ]
     },
     "execution_count": 96,
     "metadata": {},
     "output_type": "execute_result"
    },
    {
     "data": {
      "image/png": "[encoded data removed]",
      "text/plain": [
       "<Figure size 432x288 with 1 Axes>"
      ]
     },
     "metadata": {
      "needs_background": "light"
     },
     "output_type": "display_data"
    }
   ],
   "source": [
    "fig, ax = plt.subplots()\n",
    "x_pos = np.arange(4)\n",
    "aucs = [auc_pw_mean, auc_po_mean, auc_ft_mean, auc_int_mean]\n",
    "stds = [auc_pw_std, auc_po_std, auc_ft_std, auc_int_std]\n",
    "\n",
    "names = ['pair-wise', 'pooled', 'finetuning', 'internal']\n",
    "ax.errorbar(x_pos, aucs, yerr=stds, ecolor='black', capsize=7, fmt='d', color='black')\n",
    "ax.set_ylim(0.7,0.9)\n",
    "\n",
    "ax.set_xticks(x_pos)\n",
    "ax.set_xticklabels(names)\n",
    "plt.tight_layout()\n",
    "plt.ylabel(f'AUROC (mean $\\pm$ std)')"
   ]
  },
  {
   "cell_type": "code",
   "execution_count": 72,
   "id": "4bf17138",
   "metadata": {},
   "outputs": [
    {
     "ename": "SyntaxError",
     "evalue": "invalid non-printable character U+200B (347523906.py, line 9)",
     "output_type": "error",
     "traceback": [
      "\u001b[0;36m  Input \u001b[0;32mIn [72]\u001b[0;36m\u001b[0m\n\u001b[0;31m    ​\u001b[0m\n\u001b[0m    ^\u001b[0m\n\u001b[0;31mSyntaxError\u001b[0m\u001b[0;31m:\u001b[0m invalid non-printable character U+200B\n"
     ]
    }
   ],
   "source": []
  },
  {
   "cell_type": "code",
   "execution_count": 27,
   "id": "5c786767",
   "metadata": {},
   "outputs": [
    {
     "data": {
      "text/plain": [
       "Text(14.375, 0.5, 'AUROC (mean $\\\\pm$ std)')"
      ]
     },
     "execution_count": 27,
     "metadata": {},
     "output_type": "execute_result"
    },
    {
     "data": {
      "image/png": "[encoded data removed]",
      "text/plain": [
       "<Figure size 432x288 with 1 Axes>"
      ]
     },
     "metadata": {
      "needs_background": "light"
     },
     "output_type": "display_data"
    }
   ],
   "source": [
    "fig, ax = plt.subplots()\n",
    "x_pos = np.arange(5)\n",
    "aucs = [auc_pw_mean, auc_po_mean, auc_ft_mean, auc_base_mean, auc_int_mean]\n",
    "stds = [auc_pw_std, auc_po_std, auc_ft_std, auc_base_std, auc_int_std]\n",
    "\n",
    "names = ['pair-wise', 'pooled', 'finetuning', 'internal-small', 'internal']\n",
    "ax.bar(x_pos, aucs, yerr=stds, align='center', alpha=0.5, ecolor='black', capsize=10)\n",
    "ax.set_ylim(0.7,0.9)\n",
    "\n",
    "ax.set_xticks(x_pos)\n",
    "ax.set_xticklabels(names)\n",
    "plt.tight_layout()\n",
    "plt.ylabel(f'AUROC (mean $\\pm$ std)')"
   ]
  },
  {
   "cell_type": "code",
   "execution_count": 130,
   "id": "e029e17c",
   "metadata": {},
   "outputs": [
    {
     "data": {
      "text/plain": [
       "Text(0.5, 1.0, 'Performance across datasets')"
      ]
     },
     "execution_count": 130,
     "metadata": {},
     "output_type": "execute_result"
    },
    {
     "data": {
      "image/png": "[encoded data removed]",
      "text/plain": [
       "<Figure size 720x360 with 1 Axes>"
      ]
     },
     "metadata": {
      "needs_background": "light"
     },
     "output_type": "display_data"
    }
   ],
   "source": [
    "fig, ax = plt.subplots(figsize=(10,5))\n",
    "x_pos = np.arange(7)\n",
    "aucs = [auc_pw_mean, auc_po_mean, auc_ft2_mean, auc_base2_mean, auc_ft10_mean, auc_base10_mean, auc_int_mean]\n",
    "stds = [auc_pw_std, auc_po_std, auc_ft2_std, auc_base2_std, auc_ft10_std, auc_base10_std, auc_int_std]\n",
    "\n",
    "names = ['pair-wise', 'pooled', 'finetuning-2%', 'internal-2%', 'finetuning-10%', 'internal-10%', 'internal']\n",
    "ax.errorbar(x_pos, aucs, yerr=stds, ecolor='black', capsize=10, fmt='d', color='black')\n",
    "ax.set_ylim(0.7,0.9)\n",
    "\n",
    "ax.set_xticks(x_pos)\n",
    "ax.set_xticklabels(names)\n",
    "plt.tight_layout()\n",
    "plt.ylabel(f'AUROC (mean $\\pm$ std)')\n",
    "\n",
    "plt.plot((2,3), (auc_ft2_mean, auc_base2_mean), '--', color='black')\n",
    "plt.plot((4,5), (auc_ft10_mean, auc_base10_mean), '--', color='black')\n",
    "plt.hlines(auc_int_mean, 0,6, color='black', linestyle='dotted')\n",
    "\n",
    "plt.title('Performance across datasets')"
   ]
  },
  {
   "cell_type": "markdown",
   "id": "4bb989ec",
   "metadata": {},
   "source": [
    "# Notes\n",
    "\n",
    "- csv of these results\n",
    "- plot with increasingly smaller finetuning split\n",
    "- check nemati paper again\n",
    "- how much data collection can be prevented using pretraining?"
   ]
  },
  {
   "cell_type": "markdown",
   "id": "f93c6fda",
   "metadata": {},
   "source": [
    "# TO"
   ]
  }
 ],
 "metadata": {
  "kernelspec": {
   "display_name": "Python 3 (ipykernel)",
   "language": "python",
   "name": "python3"
  },
  "language_info": {
   "codemirror_mode": {
    "name": "ipython",
    "version": 3
   },
   "file_extension": ".py",
   "mimetype": "text/x-python",
   "name": "python",
   "nbconvert_exporter": "python",
   "pygments_lexer": "ipython3",
   "version": "3.9.5"
  }
 },
 "nbformat": 4,
 "nbformat_minor": 5
}
